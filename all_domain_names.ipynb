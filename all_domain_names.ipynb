{
 "cells": [
  {
   "cell_type": "code",
   "execution_count": 17,
   "id": "b76aff7e",
   "metadata": {},
   "outputs": [],
   "source": [
    "import os\n",
    "import glob\n",
    "\n",
    "import pandas as pd\n",
    "import ural\n",
    "import numpy as np\n",
    "\n",
    "pd.options.display.max_columns = None\n",
    "#pd.options.display.max_rows = None\n",
    "pd.options.display.max_colwidth = None"
   ]
  },
  {
   "cell_type": "code",
   "execution_count": 2,
   "id": "44dc4b29",
   "metadata": {},
   "outputs": [],
   "source": [
    "def import_data(folder, file_name):\n",
    "    data_path = os.path.join(\".\", \"data\", folder, file_name)\n",
    "    df = pd.read_csv(data_path, low_memory=False)\n",
    "    return df"
   ]
  },
  {
   "cell_type": "markdown",
   "id": "d46e594a",
   "metadata": {},
   "source": [
    "# Condor"
   ]
  },
  {
   "cell_type": "code",
   "execution_count": 28,
   "id": "676025d8",
   "metadata": {},
   "outputs": [
    {
     "data": {
      "text/plain": [
       "13489"
      ]
     },
     "execution_count": 28,
     "metadata": {},
     "output_type": "execute_result"
    }
   ],
   "source": [
    "df_condor = import_data('condor', 'tpfc-heloise.csv')\n",
    "\n",
    "df_condor = df_condor.dropna(subset=['clean_url'])\n",
    "df_condor['clean_url'] = df_condor['clean_url'].apply(lambda x: ural.normalize_url(x))\n",
    "df_condor = df_condor.drop_duplicates(subset=['clean_url'])\n",
    "len(df_condor)"
   ]
  },
  {
   "cell_type": "code",
   "execution_count": 4,
   "id": "c9e8621a",
   "metadata": {},
   "outputs": [
    {
     "data": {
      "text/plain": [
       "Index(['clean_url', 'full_domain', 'tpfc_rating', 'tpfc_first_fact_check',\n",
       "       'public_shares_top_country'],\n",
       "      dtype='object')"
      ]
     },
     "execution_count": 4,
     "metadata": {},
     "output_type": "execute_result"
    }
   ],
   "source": [
    "df_condor.columns"
   ]
  },
  {
   "cell_type": "code",
   "execution_count": 29,
   "id": "d04112ae",
   "metadata": {},
   "outputs": [
    {
     "data": {
      "text/plain": [
       "11335"
      ]
     },
     "execution_count": 29,
     "metadata": {},
     "output_type": "execute_result"
    }
   ],
   "source": [
    "df_condor = df_condor[df_condor['tpfc_rating']=='fact checked as false']\n",
    "len(df_condor)"
   ]
  },
  {
   "cell_type": "code",
   "execution_count": 30,
   "id": "78cd932d",
   "metadata": {},
   "outputs": [
    {
     "data": {
      "text/plain": [
       "youtube.com             400\n",
       "livebr0adcast.com       188\n",
       "wordpress.com            87\n",
       "overseasdaily.com        81\n",
       "yournewswire.com         79\n",
       "actual-eventstv.com      74\n",
       "twitter.com              63\n",
       "channel23news.com        62\n",
       "network-channel.com      60\n",
       "wfrv9.com                59\n",
       "dailyusaupdate.com       55\n",
       "lagauchematuer.fr        53\n",
       "actual-events.com        53\n",
       "kfl3.com                 43\n",
       "kbc14.com                42\n",
       "wyne8.com                39\n",
       "naturalnews.com          39\n",
       "newsbr0adcasting.com     37\n",
       "balitangpinoy.live       37\n",
       "kbr31.com                36\n",
       "Name: domain, dtype: int64"
      ]
     },
     "execution_count": 30,
     "metadata": {},
     "output_type": "execute_result"
    }
   ],
   "source": [
    "df_condor['domain'] = df_condor['clean_url'].apply(lambda x: ural.get_domain_name(x))\n",
    "df_condor['domain'].value_counts().head(20)"
   ]
  },
  {
   "cell_type": "code",
   "execution_count": 12,
   "id": "125ef094",
   "metadata": {},
   "outputs": [],
   "source": [
    "df_condor['tpfc_first_fact_check'] = pd.to_datetime(df_condor['tpfc_first_fact_check'])\n",
    "print(np.min(df_condor['tpfc_first_fact_check']), '->', np.max(df_condor['tpfc_first_fact_check']))"
   ]
  },
  {
   "cell_type": "markdown",
   "id": "61615f28",
   "metadata": {},
   "source": [
    "# Science Feedback"
   ]
  },
  {
   "cell_type": "code",
   "execution_count": 32,
   "id": "5b77c3cd",
   "metadata": {},
   "outputs": [],
   "source": [
    "path = os.path.join('.', 'data', 'sciencefeedback_csv', '*.csv')\n",
    "filenames = glob.glob(path)\n",
    "\n",
    "all_dfs = []\n",
    "for filename in filenames:\n",
    "    df = pd.read_csv(filename, dtype=str)\n",
    "    all_dfs.append(df)\n",
    "\n",
    "df_sf = pd.concat(all_dfs, ignore_index=True)"
   ]
  },
  {
   "cell_type": "code",
   "execution_count": 33,
   "id": "3a15eee6",
   "metadata": {},
   "outputs": [
    {
     "data": {
      "text/plain": [
       "Index(['Rating Date', 'Rating Time', 'Rating', 'Tier', 'Content URL',\n",
       "       'Content Type', 'Reference URL', 'Reference URL First Use Date',\n",
       "       'Reference URL First Use Time'],\n",
       "      dtype='object')"
      ]
     },
     "execution_count": 33,
     "metadata": {},
     "output_type": "execute_result"
    }
   ],
   "source": [
    "df_sf.columns"
   ]
  },
  {
   "cell_type": "code",
   "execution_count": 37,
   "id": "8c8e2cf3",
   "metadata": {},
   "outputs": [],
   "source": [
    "df_sf = df_sf.dropna(subset=['Content URL'])\n",
    "df_sf['Content URL'] = df_sf['Content URL'].apply(lambda x: ural.normalize_url(x))\n",
    "df_sf = df_sf.drop_duplicates(subset=['Content URL'])\n",
    "len(df_sf)"
   ]
  },
  {
   "cell_type": "code",
   "execution_count": 44,
   "id": "2ff0d110",
   "metadata": {},
   "outputs": [
    {
     "data": {
      "text/plain": [
       "11939"
      ]
     },
     "execution_count": 44,
     "metadata": {},
     "output_type": "execute_result"
    }
   ],
   "source": [
    "df_sf = df_sf[df_sf['Rating']=='FALSE']\n",
    "len(df_sf)"
   ]
  },
  {
   "cell_type": "code",
   "execution_count": 45,
   "id": "1cd0e371",
   "metadata": {},
   "outputs": [
    {
     "data": {
      "text/plain": [
       "facebook.com                7395\n",
       "instagram.com                497\n",
       "youtube.com                  479\n",
       "bitchute.com                 206\n",
       "twitter.com                   94\n",
       "wordpress.com                 85\n",
       "rumble.com                    38\n",
       "beforeitsnews.com             36\n",
       "lbry.tv                       36\n",
       "sott.net                      35\n",
       "humansarefree.com             34\n",
       "zerohedge.com                 32\n",
       "brandnewtube.com              31\n",
       "healthimpactnews.com          30\n",
       "thegatewaypundit.com          28\n",
       "vaccineimpact.com             27\n",
       "principia-scientific.org      27\n",
       "lewrockwell.com               27\n",
       "infowars.com                  27\n",
       "sgtreport.com                 23\n",
       "Name: domain, dtype: int64"
      ]
     },
     "execution_count": 45,
     "metadata": {},
     "output_type": "execute_result"
    }
   ],
   "source": [
    "df_sf['domain'] = df_sf['Content URL'].apply(lambda x: ural.get_domain_name(x))\n",
    "df_sf['domain'].value_counts().head(20)"
   ]
  },
  {
   "cell_type": "markdown",
   "id": "11a83bbc",
   "metadata": {},
   "source": [
    "Faire les timelines avec les strike dates pour chacun"
   ]
  },
  {
   "cell_type": "markdown",
   "id": "f2ea3fca",
   "metadata": {},
   "source": [
    "Recouper les noms de domaine Iffy+, SF >= 4 et Condor >= 4 (Venn diagram)"
   ]
  }
 ],
 "metadata": {
  "kernelspec": {
   "display_name": "Python 3",
   "language": "python",
   "name": "python3"
  },
  "language_info": {
   "codemirror_mode": {
    "name": "ipython",
    "version": 3
   },
   "file_extension": ".py",
   "mimetype": "text/x-python",
   "name": "python",
   "nbconvert_exporter": "python",
   "pygments_lexer": "ipython3",
   "version": "3.9.0"
  }
 },
 "nbformat": 4,
 "nbformat_minor": 5
}
