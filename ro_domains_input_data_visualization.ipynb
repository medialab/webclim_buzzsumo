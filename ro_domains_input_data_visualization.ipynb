{
 "cells": [
  {
   "cell_type": "code",
   "execution_count": 1,
   "id": "b76aff7e",
   "metadata": {},
   "outputs": [],
   "source": [
    "import os\n",
    "import glob\n",
    "\n",
    "from datetime import datetime\n",
    "import pandas as pd\n",
    "import ural\n",
    "import numpy as np\n",
    "import matplotlib.pyplot as plt\n",
    "from matplotlib_venn import venn3\n",
    "\n",
    "pd.options.display.max_columns = None\n",
    "#pd.options.display.max_rows = None\n",
    "pd.options.display.max_colwidth = None"
   ]
  },
  {
   "cell_type": "code",
   "execution_count": 2,
   "id": "44dc4b29",
   "metadata": {},
   "outputs": [],
   "source": [
    "def import_data(folder, file_name):\n",
    "    data_path = os.path.join(\".\", \"data\", folder, file_name)\n",
    "    df = pd.read_csv(data_path, low_memory=False)\n",
    "    return df"
   ]
  },
  {
   "cell_type": "markdown",
   "id": "d46e594a",
   "metadata": {},
   "source": [
    "# Condor"
   ]
  },
  {
   "cell_type": "code",
   "execution_count": 3,
   "id": "84085ba3",
   "metadata": {},
   "outputs": [
    {
     "data": {
      "text/plain": [
       "13894"
      ]
     },
     "execution_count": 3,
     "metadata": {},
     "output_type": "execute_result"
    }
   ],
   "source": [
    "df_condor = import_data('condor', 'tpfc-heloise.csv')\n",
    "len(df_condor)"
   ]
  },
  {
   "cell_type": "markdown",
   "id": "ad591491",
   "metadata": {},
   "source": [
    "Clean for missing and duplicate URL"
   ]
  },
  {
   "cell_type": "code",
   "execution_count": 4,
   "id": "676025d8",
   "metadata": {},
   "outputs": [
    {
     "data": {
      "text/plain": [
       "13489"
      ]
     },
     "execution_count": 4,
     "metadata": {},
     "output_type": "execute_result"
    }
   ],
   "source": [
    "df_condor = df_condor.dropna(subset=['clean_url'])\n",
    "df_condor['clean_url'] = df_condor['clean_url'].apply(lambda x: ural.normalize_url(x))\n",
    "df_condor['domain'] = df_condor['clean_url'].apply(lambda x: ural.get_domain_name(x))\n",
    "df_condor = df_condor.drop_duplicates(subset=['clean_url'])\n",
    "len(df_condor)"
   ]
  },
  {
   "cell_type": "markdown",
   "id": "8b131c42",
   "metadata": {},
   "source": [
    "Keep only the fact-checks stricly false and done in 2019 and 2020"
   ]
  },
  {
   "cell_type": "code",
   "execution_count": 5,
   "id": "c9e8621a",
   "metadata": {},
   "outputs": [
    {
     "data": {
      "text/plain": [
       "11335"
      ]
     },
     "execution_count": 5,
     "metadata": {},
     "output_type": "execute_result"
    }
   ],
   "source": [
    "df_condor = df_condor[df_condor['tpfc_rating']=='fact checked as false']\n",
    "len(df_condor)"
   ]
  },
  {
   "cell_type": "code",
   "execution_count": 6,
   "id": "f670a0a1",
   "metadata": {},
   "outputs": [
    {
     "name": "stdout",
     "output_type": "stream",
     "text": [
      "5653\n"
     ]
    }
   ],
   "source": [
    "df_condor['date'] = pd.to_datetime(df_condor['tpfc_first_fact_check'])\n",
    "df_condor = df_condor[df_condor['date'] > datetime.strptime('2018-12-01', '%Y-%m-%d')]\n",
    "df_condor = df_condor[df_condor['date'] < datetime.strptime('2021-01-01', '%Y-%m-%d')]\n",
    "print(len(df_condor))"
   ]
  },
  {
   "cell_type": "code",
   "execution_count": 7,
   "id": "68f7c961",
   "metadata": {
    "scrolled": true
   },
   "outputs": [
    {
     "name": "stdout",
     "output_type": "stream",
     "text": [
      "2018-12-01 00:10:00 -> 2020-07-27 19:30:00\n"
     ]
    }
   ],
   "source": [
    "print(np.min(df_condor['date']), '->', np.max(df_condor['date']))"
   ]
  },
  {
   "cell_type": "code",
   "execution_count": 8,
   "id": "da15b308",
   "metadata": {},
   "outputs": [
    {
     "data": {
      "text/plain": [
       "731"
      ]
     },
     "execution_count": 8,
     "metadata": {},
     "output_type": "execute_result"
    }
   ],
   "source": [
    "condor = set(df_condor['domain'].value_counts()[df_condor['domain'].value_counts() >= 2].index)\n",
    "len(condor)"
   ]
  },
  {
   "cell_type": "markdown",
   "id": "61615f28",
   "metadata": {},
   "source": [
    "# Science Feedback"
   ]
  },
  {
   "cell_type": "code",
   "execution_count": 9,
   "id": "5b77c3cd",
   "metadata": {},
   "outputs": [
    {
     "data": {
      "text/plain": [
       "20660"
      ]
     },
     "execution_count": 9,
     "metadata": {},
     "output_type": "execute_result"
    }
   ],
   "source": [
    "path = os.path.join('.', 'data', 'sciencefeedback_csv', '*.csv')\n",
    "filenames = glob.glob(path)\n",
    "\n",
    "all_dfs = []\n",
    "for filename in filenames:\n",
    "    df = pd.read_csv(filename, dtype=str)\n",
    "    all_dfs.append(df)\n",
    "\n",
    "df_sf = pd.concat(all_dfs, ignore_index=True)\n",
    "len(df_sf)"
   ]
  },
  {
   "cell_type": "markdown",
   "id": "01ff6249",
   "metadata": {},
   "source": [
    "Clean for missing and duplicate URL"
   ]
  },
  {
   "cell_type": "code",
   "execution_count": 10,
   "id": "8c8e2cf3",
   "metadata": {},
   "outputs": [
    {
     "data": {
      "text/plain": [
       "17867"
      ]
     },
     "execution_count": 10,
     "metadata": {},
     "output_type": "execute_result"
    }
   ],
   "source": [
    "df_sf = df_sf.dropna(subset=['Content URL'])\n",
    "df_sf['Content URL'] = df_sf['Content URL'].apply(lambda x: ural.normalize_url(x))\n",
    "df_sf['domain'] = df_sf['Content URL'].apply(lambda x: ural.get_domain_name(x))\n",
    "df_sf = df_sf.drop_duplicates(subset=['Content URL'])\n",
    "len(df_sf)"
   ]
  },
  {
   "cell_type": "markdown",
   "id": "dd04f6b7",
   "metadata": {},
   "source": [
    "Keep only the fact-checks stricly false and done in 2019 and 2020"
   ]
  },
  {
   "cell_type": "code",
   "execution_count": 11,
   "id": "2ff0d110",
   "metadata": {},
   "outputs": [
    {
     "data": {
      "text/plain": [
       "11939"
      ]
     },
     "execution_count": 11,
     "metadata": {},
     "output_type": "execute_result"
    }
   ],
   "source": [
    "df_sf = df_sf[df_sf['Rating']=='FALSE']\n",
    "len(df_sf)"
   ]
  },
  {
   "cell_type": "code",
   "execution_count": 12,
   "id": "1d88e1f4",
   "metadata": {},
   "outputs": [
    {
     "name": "stdout",
     "output_type": "stream",
     "text": [
      "9100\n"
     ]
    }
   ],
   "source": [
    "df_sf['date'] = pd.to_datetime(df_sf['Rating Date'])\n",
    "df_sf = df_sf[df_sf['date'] > datetime.strptime('2018-12-01', '%Y-%m-%d')]\n",
    "df_sf = df_sf[df_sf['date'] < datetime.strptime('2021-01-01', '%Y-%m-%d')]\n",
    "print(len(df_sf))"
   ]
  },
  {
   "cell_type": "code",
   "execution_count": 13,
   "id": "b6805cb6",
   "metadata": {},
   "outputs": [
    {
     "name": "stdout",
     "output_type": "stream",
     "text": [
      "2019-04-18 00:00:00 -> 2020-12-31 00:00:00\n"
     ]
    }
   ],
   "source": [
    "print(np.min(df_sf['date']), '->', np.max(df_sf['date']))"
   ]
  },
  {
   "cell_type": "code",
   "execution_count": 14,
   "id": "1ad987c7",
   "metadata": {},
   "outputs": [],
   "source": [
    "sf = set(df_sf['domain'].value_counts()[df_sf['domain'].value_counts() >= 2].index)"
   ]
  },
  {
   "cell_type": "code",
   "execution_count": 15,
   "id": "d5a8b91c",
   "metadata": {},
   "outputs": [
    {
     "data": {
      "text/plain": [
       "365"
      ]
     },
     "execution_count": 15,
     "metadata": {},
     "output_type": "execute_result"
    }
   ],
   "source": [
    "len(sf)"
   ]
  },
  {
   "cell_type": "markdown",
   "id": "e9e8c90d",
   "metadata": {},
   "source": [
    "# Iffy +"
   ]
  },
  {
   "cell_type": "markdown",
   "id": "1c9289b4",
   "metadata": {},
   "source": [
    "The Iffy data is got from here: https://iffy.news/iffy-plus/."
   ]
  },
  {
   "cell_type": "code",
   "execution_count": 16,
   "id": "16f0748b",
   "metadata": {},
   "outputs": [
    {
     "data": {
      "text/plain": [
       "812"
      ]
     },
     "execution_count": 16,
     "metadata": {},
     "output_type": "execute_result"
    }
   ],
   "source": [
    "df_iffy = import_data('iffy', 'iffy+ 2021-03 - Iffy+.csv')\n",
    "iffy = set(df_iffy['Domain'].unique())\n",
    "len(iffy)"
   ]
  },
  {
   "cell_type": "code",
   "execution_count": 17,
   "id": "2a4d2f35",
   "metadata": {},
   "outputs": [
    {
     "data": {
      "image/png": "[encoded data removed]",
      "text/plain": [
       "<Figure size 432x288 with 1 Axes>"
      ]
     },
     "metadata": {},
     "output_type": "display_data"
    }
   ],
   "source": [
    "plt.figure(figsize=())\n",
    "\n",
    "v = venn3(subsets=[condor, sf, iffy], \n",
    "          set_labels=('Condor 2+ False ({})'.format(len(condor)), \n",
    "                      'Science Feedback 2+ False ({})'.format(len(sf)), \n",
    "                      'Iffy+ ({})'.format(len(iffy))))\n",
    "\n",
    "plt.savefig('./venn_2+.png')\n",
    "plt.show()"
   ]
  }
 ],
 "metadata": {
  "kernelspec": {
   "display_name": "Python 3",
   "language": "python",
   "name": "python3"
  },
  "language_info": {
   "codemirror_mode": {
    "name": "ipython",
    "version": 3
   },
   "file_extension": ".py",
   "mimetype": "text/x-python",
   "name": "python",
   "nbconvert_exporter": "python",
   "pygments_lexer": "ipython3",
   "version": "3.9.0"
  }
 },
 "nbformat": 4,
 "nbformat_minor": 5
}
